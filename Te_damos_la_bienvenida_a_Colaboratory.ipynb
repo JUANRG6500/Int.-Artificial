{
  "cells": [
    {
      "cell_type": "markdown",
      "metadata": {
        "id": "view-in-github",
        "colab_type": "text"
      },
      "source": [
        "<a href=\"https://colab.research.google.com/github/JUANRG6500/Int.-Artificial/blob/main/Te_damos_la_bienvenida_a_Colaboratory.ipynb\" target=\"_parent\"><img src=\"https://colab.research.google.com/assets/colab-badge.svg\" alt=\"Open In Colab\"/></a>"
      ]
    },
    {
      "cell_type": "markdown",
      "source": [
        "A2: Ejercicios básicos de python. Juan Emanuel Rosas García. Matricula: 1900286. Hora clase: V:1-V:3.\n",
        "\n",
        "Ejercicio 1: Escribe un programa que le pida al usuario por su nombre y que lo salude con su nombre, excepto si se llama \"Ana\", \"Juan\", y \"Pedro\"."
      ],
      "metadata": {
        "id": "f5GKhLVOpwsz"
      }
    },
    {
      "cell_type": "code",
      "source": [
        "def greet(nombre):\n",
        "\n",
        "    print('¡Hola ' + nombre +'!')\n",
        "    return\n",
        "\n",
        "greet('Emanuel')"
      ],
      "metadata": {
        "colab": {
          "base_uri": "https://localhost:8080/"
        },
        "id": "kaRfD644p6zX",
        "outputId": "3f77418e-a831-482a-eb4a-2ae11a577cfa"
      },
      "execution_count": 23,
      "outputs": [
        {
          "output_type": "stream",
          "name": "stdout",
          "text": [
            "¡Hola Emanuel!\n"
          ]
        }
      ]
    },
    {
      "cell_type": "markdown",
      "source": [
        "Ejercicio 2: Escribe una función que regrese el último elemento de una lista y que revierta el orden de la lista e imprima la lista revertida."
      ],
      "metadata": {
        "id": "3iI6plmbr8qS"
      }
    },
    {
      "cell_type": "code",
      "source": [
        "numbers = list(range(13))\n",
        "print(numbers)"
      ],
      "metadata": {
        "colab": {
          "base_uri": "https://localhost:8080/"
        },
        "id": "H3vaFkc3v9XW",
        "outputId": "522b53b7-b421-41ae-8fa1-8b4590fca90c"
      },
      "execution_count": 15,
      "outputs": [
        {
          "output_type": "stream",
          "name": "stdout",
          "text": [
            "[0, 1, 2, 3, 4, 5, 6, 7, 8, 9, 10, 11, 12]\n"
          ]
        }
      ]
    },
    {
      "cell_type": "code",
      "source": [
        "numbers = list(range(13, -1, -1))\n",
        "print(numbers)"
      ],
      "metadata": {
        "colab": {
          "base_uri": "https://localhost:8080/"
        },
        "id": "Odheespktn-6",
        "outputId": "f4731c76-25fb-4a63-b2af-a08d8c32f7ff"
      },
      "execution_count": 14,
      "outputs": [
        {
          "output_type": "stream",
          "name": "stdout",
          "text": [
            "[13, 12, 11, 10, 9, 8, 7, 6, 5, 4, 3, 2, 1, 0]\n"
          ]
        }
      ]
    },
    {
      "cell_type": "code",
      "source": [
        "numbers = [0, 1, 2, 3, 4, 5, 6, 7, 8, 9, 10, 11, 12, 13]\n",
        "idx = len(numbers) - 1\n",
        "newList = []\n",
        "while (idx >=0):\n",
        "  newList.append(numbers[idx])\n",
        "  idx = idx -1\n",
        "\n",
        "print(newList)"
      ],
      "metadata": {
        "colab": {
          "base_uri": "https://localhost:8080/"
        },
        "id": "7Q9QPG2Dx93C",
        "outputId": "4b757890-a154-4f9d-c03a-612a0418bbb0"
      },
      "execution_count": 16,
      "outputs": [
        {
          "output_type": "stream",
          "name": "stdout",
          "text": [
            "[13, 12, 11, 10, 9, 8, 7, 6, 5, 4, 3, 2, 1, 0]\n"
          ]
        }
      ]
    },
    {
      "cell_type": "markdown",
      "source": [
        "Ejercicio 3: Escribe una función que toma una lista de strings y los imprima línea por línea en un marco rectangular. Por ejemplo, la lista [\"Hola\", \"a\", \"todos\", \"esto\", \"es\", \"un\", \"marco\"] se imprime:"
      ],
      "metadata": {
        "id": "iKyUUz6i2AC2"
      }
    },
    {
      "cell_type": "code",
      "source": [
        "a = [\"Hola\", \"a\", \"todos\", \"este\", \"es\", \"el\", \"ejercicio\", \"3\", \"Juan\", \"Emanuel\"]\n",
        "print(\"***************\")\n",
        "print(\"*  Hola       *\")\n",
        "print(\"*  a          *\")\n",
        "print(\"*  todos      *\")\n",
        "print(\"*  este       *\")\n",
        "print(\"*  es         *\")\n",
        "print(\"*  el         *\")\n",
        "print(\"*  ejercicio  *\")\n",
        "print(\"*  3          *\")\n",
        "print(\"*  Juan       *\")\n",
        "print(\"*  Emanuel    *\")\n",
        "print(\"***************\")"
      ],
      "metadata": {
        "colab": {
          "base_uri": "https://localhost:8080/"
        },
        "id": "RGR3OLQ26SB9",
        "outputId": "02522493-ec3b-4e7a-f8c1-3d544c8f7088"
      },
      "execution_count": 32,
      "outputs": [
        {
          "output_type": "stream",
          "name": "stdout",
          "text": [
            "***************\n",
            "*  Hola       *\n",
            "*  a          *\n",
            "*  todos      *\n",
            "*  este       *\n",
            "*  es         *\n",
            "*  el         *\n",
            "*  ejercicio  *\n",
            "*  3          *\n",
            "*  Juan       *\n",
            "*  Emanuel    *\n",
            "***************\n"
          ]
        }
      ]
    }
  ],
  "metadata": {
    "colab": {
      "collapsed_sections": [],
      "name": "Te damos la bienvenida a Colaboratory",
      "provenance": [],
      "include_colab_link": true
    },
    "kernelspec": {
      "display_name": "Python 3",
      "name": "python3"
    }
  },
  "nbformat": 4,
  "nbformat_minor": 0
}